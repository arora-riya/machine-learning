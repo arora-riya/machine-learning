{
  "nbformat": 4,
  "nbformat_minor": 0,
  "metadata": {
    "colab": {
      "provenance": []
    },
    "kernelspec": {
      "name": "python3",
      "display_name": "Python 3"
    },
    "language_info": {
      "name": "python"
    }
  },
  "cells": [
    {
      "cell_type": "markdown",
      "source": [
        "Just for fun notebook :)\n",
        "\n",
        "Documentation revision of Python-concepts I had lost touch with, or are a bit new"
      ],
      "metadata": {
        "id": "RGZznz6clqud"
      }
    },
    {
      "cell_type": "code",
      "execution_count": 1,
      "metadata": {
        "colab": {
          "base_uri": "https://localhost:8080/"
        },
        "id": "EyHPdRDMisGY",
        "outputId": "796fa34f-b3ea-436b-e3eb-06df98f91a4e"
      },
      "outputs": [
        {
          "output_type": "stream",
          "name": "stdout",
          "text": [
            "We could include \n",
            "newlines\n",
            "in a string this way!\n",
            "\n",
            "Also, use \\ symbol to consider itin the same line :))\n",
            "\n"
          ]
        }
      ],
      "source": [
        "# String literals\n",
        "\n",
        "print(\"\"\"\\\n",
        "We could include\n",
        "newlines\n",
        "in a string this way!\n",
        "\n",
        "Also, use \\ symbol to consider it\\\n",
        "in the same line :))\n",
        "\"\"\")"
      ]
    },
    {
      "cell_type": "code",
      "source": [
        "# Two string literals are already concatenated!\n",
        "'man' 'go'"
      ],
      "metadata": {
        "colab": {
          "base_uri": "https://localhost:8080/",
          "height": 36
        },
        "id": "G_GHA8wtmILY",
        "outputId": "b1da9692-06ba-45cd-bace-77d9993e0adb"
      },
      "execution_count": 2,
      "outputs": [
        {
          "output_type": "execute_result",
          "data": {
            "text/plain": [
              "'mango'"
            ],
            "application/vnd.google.colaboratory.intrinsic+json": {
              "type": "string"
            }
          },
          "metadata": {},
          "execution_count": 2
        }
      ]
    },
    {
      "cell_type": "code",
      "source": [
        "# Python strings are immutable, while in C++, strings are rather seen as sequences"
      ],
      "metadata": {
        "id": "l1zS58P0mg3h"
      },
      "execution_count": 3,
      "outputs": []
    },
    {
      "cell_type": "code",
      "source": [
        "# Shallow copy contains references to the original object (to the extent possible)\n",
        "# Deep copy recursively copies the items\n",
        "\n",
        "# Slicing is shallow copy\n",
        "lemters = list('abcde')\n",
        "print(lemters)\n",
        "\n",
        "new_lemters = lemters[1:]\n",
        "new_lemters[0] = 'z'\n",
        "\n",
        "print(lemters)"
      ],
      "metadata": {
        "colab": {
          "base_uri": "https://localhost:8080/"
        },
        "id": "RLOGAvR3mqPb",
        "outputId": "14ba43f7-7cb5-4f2c-abb8-42420bb8238d"
      },
      "execution_count": 4,
      "outputs": [
        {
          "output_type": "stream",
          "name": "stdout",
          "text": [
            "['a', 'b', 'c', 'd', 'e']\n",
            "['a', 'b', 'c', 'd', 'e']\n"
          ]
        }
      ]
    },
    {
      "cell_type": "code",
      "source": [
        "# pass statement does nothing, it can be used when a statement is required syntactically\n",
        "\n",
        "if 'abcde' == 'abcde':\n",
        "    pass\n",
        "else:\n",
        "    print('hi')\n",
        "\n",
        "# create minimal classes or functions (to be populated later) with pass, for example\n",
        "class MyEmptyClass:\n",
        "    pass\n",
        "\n",
        "def printHi(name):\n",
        "    pass"
      ],
      "metadata": {
        "id": "OFDd55XQnPyE"
      },
      "execution_count": 8,
      "outputs": []
    },
    {
      "cell_type": "code",
      "source": [
        "# match statements ; similar to switch-case in cpp\n",
        "# we can even match custom classes!\n",
        "# adding an 'if' clause -> guard"
      ],
      "metadata": {
        "id": "cEWvauVIn_ad"
      },
      "execution_count": 11,
      "outputs": []
    },
    {
      "cell_type": "code",
      "source": [
        "# enums in Python\n",
        "\n",
        "from enum import Enum\n",
        "class Color(Enum):\n",
        "    R = 'red'\n",
        "    G = 'green'\n",
        "    B = 'blue'\n",
        "\n",
        "color = Color(input('Enter your fav color! '))\n",
        "\n",
        "match color:\n",
        "    case Color.R:\n",
        "        print(\"I see red!\")\n",
        "    case Color.G:\n",
        "        print(\"Grass is green\")\n",
        "    case Color.B:\n",
        "        print(\"I'm feeling the blues :(\")"
      ],
      "metadata": {
        "colab": {
          "base_uri": "https://localhost:8080/"
        },
        "id": "oB4yGik7okVn",
        "outputId": "539b9b2c-0c97-4aa7-f03b-ba49d11e2cd9"
      },
      "execution_count": 14,
      "outputs": [
        {
          "output_type": "stream",
          "name": "stdout",
          "text": [
            "Enter your fav color! red\n",
            "I see red!\n"
          ]
        }
      ]
    },
    {
      "cell_type": "code",
      "source": [
        "# Keyword Arguments with Functions\n",
        "\n",
        "def func(real, imag):\n",
        "    print(real)\n",
        "    print(imag)\n",
        "\n",
        "func(real=3, imag=5)\n",
        "func(**{'real': 3, 'imag': 5})"
      ],
      "metadata": {
        "colab": {
          "base_uri": "https://localhost:8080/"
        },
        "id": "nfBrkpu-pEck",
        "outputId": "fbd4f5e7-7507-44fe-feb7-1fb4df6d4969"
      },
      "execution_count": 18,
      "outputs": [
        {
          "output_type": "stream",
          "name": "stdout",
          "text": [
            "3\n",
            "5\n",
            "3\n",
            "5\n"
          ]
        }
      ]
    },
    {
      "cell_type": "code",
      "source": [
        "def parrot(voltage, state='a stiff', action='voom', type='Norwegian Blue'):\n",
        "    print(\"-- This parrot wouldn't\", action, end=' ')\n",
        "    print(\"if you put\", voltage, \"volts through it.\")\n",
        "    print(\"-- Lovely plumage, the\", type)\n",
        "    print(\"-- It's\", state, \"!\")\n",
        "\n",
        "parrot('a million', 'bereft of life', 'jump')\n",
        "parrot('a thousand', state='pushing up the daisies')"
      ],
      "metadata": {
        "colab": {
          "base_uri": "https://localhost:8080/"
        },
        "id": "iC15dcm8qGxy",
        "outputId": "001ef2d3-1ac0-4203-8692-b773aee6bd9f"
      },
      "execution_count": 20,
      "outputs": [
        {
          "output_type": "stream",
          "name": "stdout",
          "text": [
            "-- This parrot wouldn't jump if you put a million volts through it.\n",
            "-- Lovely plumage, the Norwegian Blue\n",
            "-- It's bereft of life !\n",
            "-- This parrot wouldn't voom if you put a thousand volts through it.\n",
            "-- Lovely plumage, the Norwegian Blue\n",
            "-- It's pushing up the daisies !\n"
          ]
        }
      ]
    },
    {
      "cell_type": "code",
      "source": [
        "# Lambda expressions\n",
        "\n",
        "def add_item_func(x):\n",
        "    return lambda a: a+x\n",
        "\n",
        "f = add_item_func(6) # Now, f is a function which adds 6 to its input\n",
        "\n",
        "f(0)"
      ],
      "metadata": {
        "colab": {
          "base_uri": "https://localhost:8080/"
        },
        "id": "ypsJViaNrHPf",
        "outputId": "4bc7545f-63bc-4a13-bdaf-e0df629327fb"
      },
      "execution_count": 21,
      "outputs": [
        {
          "output_type": "execute_result",
          "data": {
            "text/plain": [
              "6"
            ]
          },
          "metadata": {},
          "execution_count": 21
        }
      ]
    },
    {
      "cell_type": "code",
      "source": [
        "# Sorting using lambda function\n",
        "\n",
        "pairs = [(1, 'one'), (2, 'two'), (3, 'three'), (4, 'four')]\n",
        "pairs.sort(key = lambda my_pair: my_pair[1], reverse = True)\n",
        "\n",
        "pairs\n"
      ],
      "metadata": {
        "colab": {
          "base_uri": "https://localhost:8080/"
        },
        "id": "q3MN_QBktYv2",
        "outputId": "92080c83-0ce4-4af8-b447-a63303f89a74"
      },
      "execution_count": 22,
      "outputs": [
        {
          "output_type": "execute_result",
          "data": {
            "text/plain": [
              "[(2, 'two'), (3, 'three'), (1, 'one'), (4, 'four')]"
            ]
          },
          "metadata": {},
          "execution_count": 22
        }
      ]
    },
    {
      "cell_type": "code",
      "source": [
        "# Function Annotations; specifying datatype with arguments and return-type"
      ],
      "metadata": {
        "id": "9x2JY2fit0Vu"
      },
      "execution_count": 23,
      "outputs": []
    },
    {
      "cell_type": "code",
      "source": [
        "# Data Structures\n",
        "\n",
        "# List\n",
        "# - can be used as stack nicely using append() and pop()\n",
        "# - can be used as queue by making it deque, and using append() and popleft()\n",
        "\n",
        "squares = list(map(lambda x: x**2, range(10)))\n",
        "squares # List Comprehension\n",
        "\n",
        "# Tuples\n",
        "# - immutable\n",
        "# Tuple-packing\n",
        "t = 1, 2, 3\n",
        "# Tuple-unpacking\n",
        "a, b, _ = t\n",
        "print(a)\n",
        "print(_)\n",
        "\n",
        "# Sets\n",
        "\n",
        "# Dictionaries"
      ],
      "metadata": {
        "colab": {
          "base_uri": "https://localhost:8080/"
        },
        "id": "nlf4fSuluKhN",
        "outputId": "5316af3d-2436-4178-bd27-54da1a0f6b0b"
      },
      "execution_count": 25,
      "outputs": [
        {
          "output_type": "stream",
          "name": "stdout",
          "text": [
            "1\n",
            "3\n"
          ]
        }
      ]
    },
    {
      "cell_type": "code",
      "source": [],
      "metadata": {
        "id": "1lPuVLSpvFcy"
      },
      "execution_count": null,
      "outputs": []
    }
  ]
}